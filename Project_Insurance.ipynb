{
 "cells": [
  {
   "cell_type": "markdown",
   "id": "469fab2c-b12e-448f-88c4-e2c4cc7b5117",
   "metadata": {},
   "source": [
    "# 📊 Statistical Analysis on Medical Insurance Dataset\n",
    "\n",
    "## 📝 Introduction\n",
    "\n",
    "This project aims to perform **descriptive and inferential statistical analysis** on the Medical Insurance Cost dataset. The dataset contains information about individuals, including their age, BMI, number of children, smoking status, and medical charges incurred.\n",
    "\n",
    "Using this dataset, we will explore:\n",
    "\n",
    "- Measures of **central tendency** (mean, median, mode)\n",
    "- Measures of **dispersion** (standard deviation, range, IQR)\n",
    "- **Outlier detection** using boxplots and Z-scores\n",
    "- **Skewness** and **kurtosis**\n",
    "- **Correlation** and **covariance**\n",
    "- **Hypothesis Testing** (e.g., Are medical charges significantly higher for smokers?)\n",
    "\n",
    "The purpose is to derive **insights** using core statistical techniques that are commonly applied in real-world data science problems.\n",
    "\n",
    "---\n",
    "\n",
    "## 📁 Dataset Source\n",
    "\n",
    "- **Kaggle Link**: [Medical Cost Personal Dataset](https://www.kaggle.com/datasets/mirichoi0218/insurance)\n",
    "\n",
    "---\n"
   ]
  },
  {
   "cell_type": "markdown",
   "id": "41f5adc5-2c9c-4213-b88b-d262a15f24a6",
   "metadata": {},
   "source": [
    "Measures of central tendency (mean, median, mode)"
   ]
  },
  {
   "cell_type": "code",
   "execution_count": 2,
   "id": "3c2ff83e-c983-4d89-9087-d4d444d8f4cc",
   "metadata": {},
   "outputs": [],
   "source": [
    "import pandas as pd\n",
    "import numpy as np\n",
    "import matplotlib.pyplot as plt\n",
    "import seaborn as sns\n",
    "import scipy.stats as st\n"
   ]
  },
  {
   "cell_type": "code",
   "execution_count": 3,
   "id": "9556e02c-d581-42a5-8550-98b24d152103",
   "metadata": {},
   "outputs": [],
   "source": [
    "dataset=pd.read_csv(r\"C:\\Users\\ROYAL ENFIELD\\Downloads\\insurance.csv\")"
   ]
  },
  {
   "cell_type": "code",
   "execution_count": 4,
   "id": "2e610248-9c74-435c-a3c2-5c68a16ca2b6",
   "metadata": {},
   "outputs": [
    {
     "data": {
      "text/html": [
       "<div>\n",
       "<style scoped>\n",
       "    .dataframe tbody tr th:only-of-type {\n",
       "        vertical-align: middle;\n",
       "    }\n",
       "\n",
       "    .dataframe tbody tr th {\n",
       "        vertical-align: top;\n",
       "    }\n",
       "\n",
       "    .dataframe thead th {\n",
       "        text-align: right;\n",
       "    }\n",
       "</style>\n",
       "<table border=\"1\" class=\"dataframe\">\n",
       "  <thead>\n",
       "    <tr style=\"text-align: right;\">\n",
       "      <th></th>\n",
       "      <th>age</th>\n",
       "      <th>sex</th>\n",
       "      <th>bmi</th>\n",
       "      <th>children</th>\n",
       "      <th>smoker</th>\n",
       "      <th>region</th>\n",
       "      <th>charges</th>\n",
       "    </tr>\n",
       "  </thead>\n",
       "  <tbody>\n",
       "    <tr>\n",
       "      <th>0</th>\n",
       "      <td>19</td>\n",
       "      <td>female</td>\n",
       "      <td>27.90</td>\n",
       "      <td>0</td>\n",
       "      <td>yes</td>\n",
       "      <td>southwest</td>\n",
       "      <td>16884.9240</td>\n",
       "    </tr>\n",
       "    <tr>\n",
       "      <th>1</th>\n",
       "      <td>18</td>\n",
       "      <td>male</td>\n",
       "      <td>33.77</td>\n",
       "      <td>1</td>\n",
       "      <td>no</td>\n",
       "      <td>southeast</td>\n",
       "      <td>1725.5523</td>\n",
       "    </tr>\n",
       "    <tr>\n",
       "      <th>2</th>\n",
       "      <td>28</td>\n",
       "      <td>male</td>\n",
       "      <td>33.00</td>\n",
       "      <td>3</td>\n",
       "      <td>no</td>\n",
       "      <td>southeast</td>\n",
       "      <td>4449.4620</td>\n",
       "    </tr>\n",
       "  </tbody>\n",
       "</table>\n",
       "</div>"
      ],
      "text/plain": [
       "   age     sex    bmi  children smoker     region     charges\n",
       "0   19  female  27.90         0    yes  southwest  16884.9240\n",
       "1   18    male  33.77         1     no  southeast   1725.5523\n",
       "2   28    male  33.00         3     no  southeast   4449.4620"
      ]
     },
     "execution_count": 4,
     "metadata": {},
     "output_type": "execute_result"
    }
   ],
   "source": [
    "dataset.head(3)"
   ]
  },
  {
   "cell_type": "code",
   "execution_count": 4,
   "id": "d26c3501-e7e6-441d-8c8a-1db7c11d4525",
   "metadata": {},
   "outputs": [
    {
     "data": {
      "text/plain": [
       "age         0\n",
       "sex         0\n",
       "bmi         0\n",
       "children    0\n",
       "smoker      0\n",
       "region      0\n",
       "charges     0\n",
       "dtype: int64"
      ]
     },
     "execution_count": 4,
     "metadata": {},
     "output_type": "execute_result"
    }
   ],
   "source": [
    "dataset.isnull().sum() # No Null Values Present!"
   ]
  },
  {
   "cell_type": "code",
   "execution_count": 5,
   "id": "a7c4d8b9-29cc-40e3-bc2b-a3a2beff1fca",
   "metadata": {},
   "outputs": [],
   "source": [
    "mn=np.mean(dataset[\"charges\"])\n",
    "md=np.median(dataset[\"charges\"])\n",
    "mo=dataset[\"charges\"].mode()[0]"
   ]
  },
  {
   "cell_type": "code",
   "execution_count": 6,
   "id": "346dcb6f-255c-4763-a94f-3ff026846b12",
   "metadata": {},
   "outputs": [
    {
     "data": {
      "text/plain": [
       "(13270.422265141257, 9382.033, 1639.5631)"
      ]
     },
     "execution_count": 6,
     "metadata": {},
     "output_type": "execute_result"
    }
   ],
   "source": [
    "mn, md,  mo"
   ]
  },
  {
   "cell_type": "code",
   "execution_count": 16,
   "id": "9f9e9b95-a9ac-4184-b49e-ab69e62568df",
   "metadata": {},
   "outputs": [
    {
     "data": {
      "image/png": "[encoded data removed]",
      "text/plain": [
       "<Figure size 640x480 with 1 Axes>"
      ]
     },
     "metadata": {},
     "output_type": "display_data"
    }
   ],
   "source": [
    "sns.histplot(x=\"charges\",data=dataset,bins=[i for i in range(0,65000,13000)])\n",
    "plt.plot([mn for i in range(0,900)],[i for i in range(0,900)],c=\"red\",label=\"mean\")\n",
    "plt.plot([md for i in range(0,900)],[i for i in range(0,900)],c=\"blue\",label=\"median\")\n",
    "plt.plot([mo for i in range(0,900)],[i for i in range(0,900)],c=\"green\",label=\"mode\")\n",
    "plt.legend()\n",
    "plt.show()"
   ]
  },
  {
   "cell_type": "markdown",
   "id": "0ae94d71-454d-4b5c-8651-5180e7f3658e",
   "metadata": {},
   "source": [
    "## 📉 Measures of Variability\n",
    "\n",
    "We calculated the following measures of variability to understand the spread of medical charges:\n",
    "\n",
    "- **Range**: Difference between the highest and lowest medical charges.\n",
    "- **Standard Deviation**: Shows how much the values deviate from the mean. A higher standard deviation indicates a greater variation in charges.\n",
    "- **Variance**: Square of standard deviation, reflecting data dispersion.\n",
    "\n",
    "These measures give us insights into how varied the medical charges are across individuals.\n"
   ]
  },
  {
   "cell_type": "code",
   "execution_count": 17,
   "id": "11968086-66cb-4846-b622-95f933c8c2a6",
   "metadata": {},
   "outputs": [
    {
     "data": {
      "text/plain": [
       "(1121.8739, 63770.42801)"
      ]
     },
     "execution_count": 17,
     "metadata": {},
     "output_type": "execute_result"
    }
   ],
   "source": [
    "min_r=dataset[\"charges\"].min()\n",
    "max_r=dataset[\"charges\"].max()\n",
    "min_r, max_r"
   ]
  },
  {
   "cell_type": "code",
   "execution_count": 18,
   "id": "21505248-70d4-4c1a-bda3-29054684b4ca",
   "metadata": {},
   "outputs": [
    {
     "data": {
      "text/plain": [
       "62648.554110000005"
      ]
     },
     "execution_count": 18,
     "metadata": {},
     "output_type": "execute_result"
    }
   ],
   "source": [
    "range=max_r-min_r\n",
    "range"
   ]
  },
  {
   "cell_type": "code",
   "execution_count": 19,
   "id": "84cf6cd7-0d33-4044-9576-70649f133bd2",
   "metadata": {},
   "outputs": [
    {
     "data": {
      "text/plain": [
       "12110.011236693994"
      ]
     },
     "execution_count": 19,
     "metadata": {},
     "output_type": "execute_result"
    }
   ],
   "source": [
    "dataset[\"charges\"].std()"
   ]
  },
  {
   "cell_type": "code",
   "execution_count": 26,
   "id": "f98374e5-4b4c-4bb9-9182-f858634b2b6b",
   "metadata": {},
   "outputs": [
    {
     "data": {
      "text/plain": [
       "146652372.1528548"
      ]
     },
     "execution_count": 26,
     "metadata": {},
     "output_type": "execute_result"
    }
   ],
   "source": [
    "dataset[\"charges\"].var()\n"
   ]
  },
  {
   "cell_type": "code",
   "execution_count": 27,
   "id": "841427eb-38e9-4258-85d2-316c6a642add",
   "metadata": {},
   "outputs": [
    {
     "data": {
      "image/png": "[encoded data removed]",
      "text/plain": [
       "<Figure size 640x480 with 1 Axes>"
      ]
     },
     "metadata": {},
     "output_type": "display_data"
    }
   ],
   "source": [
    "sns.histplot(x=\"charges\",data=dataset)\n",
    "plt.show()"
   ]
  },
  {
   "cell_type": "code",
   "execution_count": 32,
   "id": "00b9218d-e2e0-4828-8d53-f6248494a27d",
   "metadata": {},
   "outputs": [
    {
     "data": {
      "text/html": [
       "<div>\n",
       "<style scoped>\n",
       "    .dataframe tbody tr th:only-of-type {\n",
       "        vertical-align: middle;\n",
       "    }\n",
       "\n",
       "    .dataframe tbody tr th {\n",
       "        vertical-align: top;\n",
       "    }\n",
       "\n",
       "    .dataframe thead th {\n",
       "        text-align: right;\n",
       "    }\n",
       "</style>\n",
       "<table border=\"1\" class=\"dataframe\">\n",
       "  <thead>\n",
       "    <tr style=\"text-align: right;\">\n",
       "      <th></th>\n",
       "      <th>age</th>\n",
       "      <th>bmi</th>\n",
       "      <th>children</th>\n",
       "      <th>charges</th>\n",
       "    </tr>\n",
       "  </thead>\n",
       "  <tbody>\n",
       "    <tr>\n",
       "      <th>count</th>\n",
       "      <td>1338.000000</td>\n",
       "      <td>1338.000000</td>\n",
       "      <td>1338.000000</td>\n",
       "      <td>1338.000000</td>\n",
       "    </tr>\n",
       "    <tr>\n",
       "      <th>mean</th>\n",
       "      <td>39.207025</td>\n",
       "      <td>30.663397</td>\n",
       "      <td>1.094918</td>\n",
       "      <td>13270.422265</td>\n",
       "    </tr>\n",
       "    <tr>\n",
       "      <th>std</th>\n",
       "      <td>14.049960</td>\n",
       "      <td>6.098187</td>\n",
       "      <td>1.205493</td>\n",
       "      <td>12110.011237</td>\n",
       "    </tr>\n",
       "    <tr>\n",
       "      <th>min</th>\n",
       "      <td>18.000000</td>\n",
       "      <td>15.960000</td>\n",
       "      <td>0.000000</td>\n",
       "      <td>1121.873900</td>\n",
       "    </tr>\n",
       "    <tr>\n",
       "      <th>25%</th>\n",
       "      <td>27.000000</td>\n",
       "      <td>26.296250</td>\n",
       "      <td>0.000000</td>\n",
       "      <td>4740.287150</td>\n",
       "    </tr>\n",
       "    <tr>\n",
       "      <th>50%</th>\n",
       "      <td>39.000000</td>\n",
       "      <td>30.400000</td>\n",
       "      <td>1.000000</td>\n",
       "      <td>9382.033000</td>\n",
       "    </tr>\n",
       "    <tr>\n",
       "      <th>75%</th>\n",
       "      <td>51.000000</td>\n",
       "      <td>34.693750</td>\n",
       "      <td>2.000000</td>\n",
       "      <td>16639.912515</td>\n",
       "    </tr>\n",
       "    <tr>\n",
       "      <th>max</th>\n",
       "      <td>64.000000</td>\n",
       "      <td>53.130000</td>\n",
       "      <td>5.000000</td>\n",
       "      <td>63770.428010</td>\n",
       "    </tr>\n",
       "  </tbody>\n",
       "</table>\n",
       "</div>"
      ],
      "text/plain": [
       "               age          bmi     children       charges\n",
       "count  1338.000000  1338.000000  1338.000000   1338.000000\n",
       "mean     39.207025    30.663397     1.094918  13270.422265\n",
       "std      14.049960     6.098187     1.205493  12110.011237\n",
       "min      18.000000    15.960000     0.000000   1121.873900\n",
       "25%      27.000000    26.296250     0.000000   4740.287150\n",
       "50%      39.000000    30.400000     1.000000   9382.033000\n",
       "75%      51.000000    34.693750     2.000000  16639.912515\n",
       "max      64.000000    53.130000     5.000000  63770.428010"
      ]
     },
     "execution_count": 32,
     "metadata": {},
     "output_type": "execute_result"
    }
   ],
   "source": [
    "dataset.describe()"
   ]
  },
  {
   "cell_type": "code",
   "execution_count": null,
   "id": "f4d7be3d-fdfa-4cf6-abec-a52503f772d0",
   "metadata": {},
   "outputs": [],
   "source": []
  },
  {
   "cell_type": "markdown",
   "id": "4c5f1bbb-1f64-4ab1-be30-6587e8707ed3",
   "metadata": {},
   "source": [
    "## 📊 Spread of Medical Charges\n",
    "\n",
    "From the **describe()** function, we observe that the **50th percentile (median)**, **mean**, and **maximum values** of the **charges** column show significant spread. This suggests that the data has a high variability, and there are likely **outliers** influencing the results.\n"
   ]
  },
  {
   "cell_type": "markdown",
   "id": "f5701649-7e54-4e4b-ad1f-304b4fac8a6b",
   "metadata": {},
   "source": [
    "## 📊 Percentiles and Outlier Detection\n",
    "\n",
    "We will use a **boxplot** to visually identify the **percentiles** and detect any **outliers** in the **charges** column.\n",
    "\n",
    "A **boxplot** represents the spread of data and identifies **outliers** as points that fall outside the typical range of the 25th (Q1) and 75th (Q3) percentiles, usually beyond **1.5 times the Interquartile Range (IQR)**.\n",
    "\n",
    "- **Q1 (25th percentile)**: The lower boundary of the box\n",
    "- **Median (50th percentile)**: The line inside the box\n",
    "- **Q3 (75th percentile)**: The upper boundary of the box\n",
    "- **Outliers**: Points outside the \"whiskers\" of the boxplot, indicating extreme values\n",
    "\n",
    "By plotting a boxplot, we can visually confirm the spread of the data and detect any potential **outliers** that may be skewing the results.\n"
   ]
  },
  {
   "cell_type": "code",
   "execution_count": 33,
   "id": "83bd840d-a5de-40f3-828b-a69e92710439",
   "metadata": {},
   "outputs": [
    {
     "data": {
      "text/plain": [
       "4740.28715"
      ]
     },
     "execution_count": 33,
     "metadata": {},
     "output_type": "execute_result"
    }
   ],
   "source": [
    "np.percentile(dataset[\"charges\"],25)"
   ]
  },
  {
   "cell_type": "code",
   "execution_count": 34,
   "id": "47c7c7c0-18f6-4f1b-ba5b-f2c66a564e39",
   "metadata": {},
   "outputs": [
    {
     "data": {
      "text/plain": [
       "9382.033"
      ]
     },
     "execution_count": 34,
     "metadata": {},
     "output_type": "execute_result"
    }
   ],
   "source": [
    "np.percentile(dataset[\"charges\"],50)"
   ]
  },
  {
   "cell_type": "code",
   "execution_count": 35,
   "id": "ed092166-7c35-4f09-92b3-f6012bfd9faf",
   "metadata": {},
   "outputs": [
    {
     "data": {
      "text/plain": [
       "16639.912515"
      ]
     },
     "execution_count": 35,
     "metadata": {},
     "output_type": "execute_result"
    }
   ],
   "source": [
    "np.percentile(dataset[\"charges\"],75)"
   ]
  },
  {
   "cell_type": "code",
   "execution_count": 36,
   "id": "2c4ea686-a102-4ad7-a836-5758e180c075",
   "metadata": {},
   "outputs": [
    {
     "data": {
      "text/html": [
       "<div>\n",
       "<style scoped>\n",
       "    .dataframe tbody tr th:only-of-type {\n",
       "        vertical-align: middle;\n",
       "    }\n",
       "\n",
       "    .dataframe tbody tr th {\n",
       "        vertical-align: top;\n",
       "    }\n",
       "\n",
       "    .dataframe thead th {\n",
       "        text-align: right;\n",
       "    }\n",
       "</style>\n",
       "<table border=\"1\" class=\"dataframe\">\n",
       "  <thead>\n",
       "    <tr style=\"text-align: right;\">\n",
       "      <th></th>\n",
       "      <th>age</th>\n",
       "      <th>bmi</th>\n",
       "      <th>children</th>\n",
       "      <th>charges</th>\n",
       "    </tr>\n",
       "  </thead>\n",
       "  <tbody>\n",
       "    <tr>\n",
       "      <th>count</th>\n",
       "      <td>1338.000000</td>\n",
       "      <td>1338.000000</td>\n",
       "      <td>1338.000000</td>\n",
       "      <td>1338.000000</td>\n",
       "    </tr>\n",
       "    <tr>\n",
       "      <th>mean</th>\n",
       "      <td>39.207025</td>\n",
       "      <td>30.663397</td>\n",
       "      <td>1.094918</td>\n",
       "      <td>13270.422265</td>\n",
       "    </tr>\n",
       "    <tr>\n",
       "      <th>std</th>\n",
       "      <td>14.049960</td>\n",
       "      <td>6.098187</td>\n",
       "      <td>1.205493</td>\n",
       "      <td>12110.011237</td>\n",
       "    </tr>\n",
       "    <tr>\n",
       "      <th>min</th>\n",
       "      <td>18.000000</td>\n",
       "      <td>15.960000</td>\n",
       "      <td>0.000000</td>\n",
       "      <td>1121.873900</td>\n",
       "    </tr>\n",
       "    <tr>\n",
       "      <th>25%</th>\n",
       "      <td>27.000000</td>\n",
       "      <td>26.296250</td>\n",
       "      <td>0.000000</td>\n",
       "      <td>4740.287150</td>\n",
       "    </tr>\n",
       "    <tr>\n",
       "      <th>50%</th>\n",
       "      <td>39.000000</td>\n",
       "      <td>30.400000</td>\n",
       "      <td>1.000000</td>\n",
       "      <td>9382.033000</td>\n",
       "    </tr>\n",
       "    <tr>\n",
       "      <th>75%</th>\n",
       "      <td>51.000000</td>\n",
       "      <td>34.693750</td>\n",
       "      <td>2.000000</td>\n",
       "      <td>16639.912515</td>\n",
       "    </tr>\n",
       "    <tr>\n",
       "      <th>max</th>\n",
       "      <td>64.000000</td>\n",
       "      <td>53.130000</td>\n",
       "      <td>5.000000</td>\n",
       "      <td>63770.428010</td>\n",
       "    </tr>\n",
       "  </tbody>\n",
       "</table>\n",
       "</div>"
      ],
      "text/plain": [
       "               age          bmi     children       charges\n",
       "count  1338.000000  1338.000000  1338.000000   1338.000000\n",
       "mean     39.207025    30.663397     1.094918  13270.422265\n",
       "std      14.049960     6.098187     1.205493  12110.011237\n",
       "min      18.000000    15.960000     0.000000   1121.873900\n",
       "25%      27.000000    26.296250     0.000000   4740.287150\n",
       "50%      39.000000    30.400000     1.000000   9382.033000\n",
       "75%      51.000000    34.693750     2.000000  16639.912515\n",
       "max      64.000000    53.130000     5.000000  63770.428010"
      ]
     },
     "execution_count": 36,
     "metadata": {},
     "output_type": "execute_result"
    }
   ],
   "source": [
    "dataset.describe()"
   ]
  },
  {
   "cell_type": "code",
   "execution_count": 37,
   "id": "b28eb5af-bfa2-46c8-b913-9b4cdb10746a",
   "metadata": {},
   "outputs": [
    {
     "data": {
      "image/png": "[encoded data removed]",
      "text/plain": [
       "<Figure size 640x480 with 1 Axes>"
      ]
     },
     "metadata": {},
     "output_type": "display_data"
    }
   ],
   "source": [
    "sns.boxplot(x=\"charges\",data=dataset)\n",
    "plt.show()"
   ]
  },
  {
   "cell_type": "markdown",
   "id": "0bf5874e-db0f-4b26-88ea-1c8e80422613",
   "metadata": {},
   "source": [
    "## 📐 Measures of Shape: Skewness\n",
    "\n",
    "Skewness helps us understand the **asymmetry** of the data distribution:\n",
    "\n",
    "- **Positive Skew (Right Skew)**: The tail on the right side is longer, and most of the data points are on the left.\n",
    "- **Negative Skew (Left Skew)**: The tail on the left side is longer, and most of the data points are on the right.\n",
    "- **No Skew (Symmetric)**: The data is evenly distributed around the mean, resembling a normal distribution.\n",
    "\n",
    "We will calculate the **skewness** of the **charges** column to determine if the data is positively, negatively, or normally skewed.\n",
    "\n",
    "A **skewness value**:\n",
    "- **> 0** → Positive skew (Right Skew)\n",
    "- **< 0** → Negative skew (Left Skew)\n",
    "- **= 0** → No skew (Symmetric distribution)\n"
   ]
  },
  {
   "cell_type": "code",
   "execution_count": 55,
   "id": "f4b8a5d1-c014-4107-95ee-bf9a7a7beb36",
   "metadata": {},
   "outputs": [
    {
     "data": {
      "image/png": "[encoded data removed]",
      "text/plain": [
       "<Figure size 640x480 with 1 Axes>"
      ]
     },
     "metadata": {},
     "output_type": "display_data"
    }
   ],
   "source": [
    "a=dataset[\"charges\"].skew()\n",
    "sns.histplot(x=\"charges\",data=dataset,bins=[0,10000,20000,30000,40000,50000,60000])\n",
    "plt.show()"
   ]
  },
  {
   "cell_type": "markdown",
   "id": "1ab8ecad-4793-4d7b-a7e8-5f879b3f95a6",
   "metadata": {},
   "source": [
    "## 📊 Covariance and Correlation (Visualized with Heatmap)\n",
    "\n",
    "To better understand the relationship between variables like **charges**, **age**, **BMI**, etc., we can visualize their **covariance** and **correlation** using a **heatmap**. A heatmap provides a color-coded representation of these relationships.\n",
    "\n",
    "- **Positive Correlation**: The values will be closer to **1** \n",
    "- **Negative Correlation**: The values will be closer to **-1** \n",
    "- **Low/No Correlation**: The values will be around **0** \n",
    "\n",
    "We can use a **heatmap** to clearly show which variables have strong positive or negative relationships, and which have weak or no correlation.\n"
   ]
  },
  {
   "cell_type": "code",
   "execution_count": 56,
   "id": "2cd842db-5776-4259-a5dc-e617aed967dc",
   "metadata": {},
   "outputs": [
    {
     "name": "stdout",
     "output_type": "stream",
     "text": [
      "<class 'pandas.core.frame.DataFrame'>\n",
      "RangeIndex: 1338 entries, 0 to 1337\n",
      "Data columns (total 7 columns):\n",
      " #   Column    Non-Null Count  Dtype  \n",
      "---  ------    --------------  -----  \n",
      " 0   age       1338 non-null   int64  \n",
      " 1   sex       1338 non-null   object \n",
      " 2   bmi       1338 non-null   float64\n",
      " 3   children  1338 non-null   int64  \n",
      " 4   smoker    1338 non-null   object \n",
      " 5   region    1338 non-null   object \n",
      " 6   charges   1338 non-null   float64\n",
      "dtypes: float64(2), int64(2), object(3)\n",
      "memory usage: 73.3+ KB\n"
     ]
    }
   ],
   "source": [
    "dataset.info()"
   ]
  },
  {
   "cell_type": "code",
   "execution_count": 60,
   "id": "293a9bc2-e772-42b1-9284-c1476a308640",
   "metadata": {},
   "outputs": [],
   "source": [
    "data_corr=dataset.select_dtypes([\"int64\",\"float64\"]).corr()"
   ]
  },
  {
   "cell_type": "code",
   "execution_count": 62,
   "id": "cb9a13cc-e2d6-4fa7-9c71-16861d75aedc",
   "metadata": {},
   "outputs": [
    {
     "data": {
      "text/html": [
       "<div>\n",
       "<style scoped>\n",
       "    .dataframe tbody tr th:only-of-type {\n",
       "        vertical-align: middle;\n",
       "    }\n",
       "\n",
       "    .dataframe tbody tr th {\n",
       "        vertical-align: top;\n",
       "    }\n",
       "\n",
       "    .dataframe thead th {\n",
       "        text-align: right;\n",
       "    }\n",
       "</style>\n",
       "<table border=\"1\" class=\"dataframe\">\n",
       "  <thead>\n",
       "    <tr style=\"text-align: right;\">\n",
       "      <th></th>\n",
       "      <th>age</th>\n",
       "      <th>bmi</th>\n",
       "      <th>children</th>\n",
       "      <th>charges</th>\n",
       "    </tr>\n",
       "  </thead>\n",
       "  <tbody>\n",
       "    <tr>\n",
       "      <th>age</th>\n",
       "      <td>1.000000</td>\n",
       "      <td>0.109272</td>\n",
       "      <td>0.042469</td>\n",
       "      <td>0.299008</td>\n",
       "    </tr>\n",
       "    <tr>\n",
       "      <th>bmi</th>\n",
       "      <td>0.109272</td>\n",
       "      <td>1.000000</td>\n",
       "      <td>0.012759</td>\n",
       "      <td>0.198341</td>\n",
       "    </tr>\n",
       "    <tr>\n",
       "      <th>children</th>\n",
       "      <td>0.042469</td>\n",
       "      <td>0.012759</td>\n",
       "      <td>1.000000</td>\n",
       "      <td>0.067998</td>\n",
       "    </tr>\n",
       "    <tr>\n",
       "      <th>charges</th>\n",
       "      <td>0.299008</td>\n",
       "      <td>0.198341</td>\n",
       "      <td>0.067998</td>\n",
       "      <td>1.000000</td>\n",
       "    </tr>\n",
       "  </tbody>\n",
       "</table>\n",
       "</div>"
      ],
      "text/plain": [
       "               age       bmi  children   charges\n",
       "age       1.000000  0.109272  0.042469  0.299008\n",
       "bmi       0.109272  1.000000  0.012759  0.198341\n",
       "children  0.042469  0.012759  1.000000  0.067998\n",
       "charges   0.299008  0.198341  0.067998  1.000000"
      ]
     },
     "execution_count": 62,
     "metadata": {},
     "output_type": "execute_result"
    }
   ],
   "source": [
    "data_corr"
   ]
  },
  {
   "cell_type": "code",
   "execution_count": 65,
   "id": "08b818cd-051c-4b13-8a16-3bccb14d95ae",
   "metadata": {},
   "outputs": [
    {
     "data": {
      "image/png": "[encoded data removed]",
      "text/plain": [
       "<Figure size 600x300 with 2 Axes>"
      ]
     },
     "metadata": {},
     "output_type": "display_data"
    }
   ],
   "source": [
    "plt.figure(figsize=(6,3))\n",
    "sns.heatmap(data_corr,annot=True)\n",
    "plt.show()"
   ]
  },
  {
   "cell_type": "markdown",
   "id": "f3fc22c5-d1dc-42bc-8d38-284944d100ee",
   "metadata": {},
   "source": [
    "## 🧪 Hypothesis Testing using Z-test\n",
    "\n",
    "To test whether **smokers** have significantly higher medical charges than **non-smokers**, we use a **Z-test**.\n",
    "\n",
    "- **Null Hypothesis (H₀)**: There is **no significant difference** in average charges between smokers and non-smokers.\n",
    "- **Alternative Hypothesis (H₁)**: **Smokers have higher average charges** than non-smokers.\n",
    "\n",
    "Based on the **Z-statistic** and **P-value**, we determine whether to reject the null hypothesis. A **p-value less than 0.05** indicates strong evidence **against the null hypothesis**, suggesting that smoking does significantly impact medical charges.\n"
   ]
  },
  {
   "cell_type": "code",
   "execution_count": 74,
   "id": "44d0fc7a-68d2-4e96-b304-981dfea03918",
   "metadata": {},
   "outputs": [
    {
     "name": "stdout",
     "output_type": "stream",
     "text": [
      "Sample Mean (Smokers): 32050.23183153284\n",
      "Population Mean (Non-Smokers): 8434.268297856204\n"
     ]
    }
   ],
   "source": [
    "# Sample Mean: Charges of Smokers\n",
    "sample_mean = dataset[dataset['smoker'] == 'yes']['charges'].mean()\n",
    "\n",
    "# Population Mean: Charges of Non-Smokers\n",
    "population_mean = dataset[dataset['smoker'] == 'no']['charges'].mean()\n",
    "\n",
    "print(\"Sample Mean (Smokers):\", sample_mean)\n",
    "print(\"Population Mean (Non-Smokers):\", population_mean)\n",
    "\n"
   ]
  },
  {
   "cell_type": "code",
   "execution_count": 75,
   "id": "a4890ee7-1edf-491f-a4ee-946778cf7c6e",
   "metadata": {},
   "outputs": [
    {
     "name": "stdout",
     "output_type": "stream",
     "text": [
      "Population Standard Deviation (Non-Smokers): 5993.781819194933\n"
     ]
    }
   ],
   "source": [
    "# Population Standard Deviation (Non-Smokers)\n",
    "population_std = dataset[dataset['smoker'] == 'no']['charges'].std()\n",
    "\n",
    "print(\"Population Standard Deviation (Non-Smokers):\", population_std)\n"
   ]
  },
  {
   "cell_type": "code",
   "execution_count": 77,
   "id": "ebe8c2c6-0601-47c4-bc94-449840303ce3",
   "metadata": {},
   "outputs": [],
   "source": [
    "s_x=32050.23183153284\n",
    "p_u=8434.268297856204\n",
    "p_std=5993.781819194933\n",
    "n=274\n",
    "ap=0.05"
   ]
  },
  {
   "cell_type": "code",
   "execution_count": 78,
   "id": "b55d83c1-eb5e-49d2-bd45-82c485d3e1d9",
   "metadata": {},
   "outputs": [],
   "source": [
    "z_cal=(s_x-p_u)/(p_std/np.sqrt(n))"
   ]
  },
  {
   "cell_type": "code",
   "execution_count": 79,
   "id": "f1cbf20e-8c8d-42dd-a567-f152bff6ee70",
   "metadata": {},
   "outputs": [
    {
     "data": {
      "text/plain": [
       "65.21988382690078"
      ]
     },
     "execution_count": 79,
     "metadata": {},
     "output_type": "execute_result"
    }
   ],
   "source": [
    "z_cal"
   ]
  },
  {
   "cell_type": "code",
   "execution_count": 80,
   "id": "c21f0c73-0712-448f-a42d-1bf8cd0d30d0",
   "metadata": {},
   "outputs": [
    {
     "data": {
      "text/plain": [
       "1.6448536269514722"
      ]
     },
     "execution_count": 80,
     "metadata": {},
     "output_type": "execute_result"
    }
   ],
   "source": [
    "z_table=st.norm.ppf(1-ap)\n",
    "z_table"
   ]
  },
  {
   "cell_type": "code",
   "execution_count": 82,
   "id": "638d559c-4ac4-40d5-8138-ee66678d6b02",
   "metadata": {},
   "outputs": [
    {
     "name": "stdout",
     "output_type": "stream",
     "text": [
      "alternative hypothesis is right\n"
     ]
    }
   ],
   "source": [
    "if z_cal>z_table:\n",
    "    print(\"alternative hypothesis is right\")\n",
    "else:\n",
    "    print(\"null hypothesis is right\")"
   ]
  },
  {
   "cell_type": "markdown",
   "id": "7631980e-8c37-4fcb-90ff-f60ba9d116e1",
   "metadata": {},
   "source": [
    "### ✅ Z-Test Result and Conclusion\n",
    "\n",
    "- **Z-calculated** = 65.2  \n",
    "- **Z-critical (one-tailed, α = 0.05)** = 1.644  \n",
    "- **Decision Rule**: If Z-calculated > Z-critical, reject the null hypothesis.\n",
    "\n",
    "Since **65.2 > 1.644**, we **reject the null hypothesis**.\n",
    "\n",
    "### 📌 Conclusion:\n",
    "There is **strong statistical evidence** that the **average medical charges for smokers** are **significantly higher** than those for non-smokers. This suggests a clear impact of smoking on healthcare costs.\n"
   ]
  },
  {
   "cell_type": "markdown",
   "id": "10a6f5b2-25cf-455e-8d90-614c4aa4d6df",
   "metadata": {},
   "source": [
    "### Chi-Square Test: Smoker vs Region\n",
    "\n",
    "To analyze whether there is any significant association between a person's smoking status and their region, we applied the Chi-Square Test of Independence.\n",
    "\n",
    "Both `smoker` and `region` are categorical variables.\n",
    "\n",
    "#### Hypotheses:\n",
    "- **Null Hypothesis (H0):** There is no association between smoker status and region.\n",
    "- **Alternative Hypothesis (H1):** There is an association between smoker status and region.\n",
    "\n",
    "We used a contingency table and applied the `chi2_contingency` function from `scipy.stats`.\n",
    "\n",
    "If the p-value is less than 0.05, we reject the null hypothesis, indicating a significant relationship.\n"
   ]
  },
  {
   "cell_type": "code",
   "execution_count": 5,
   "id": "bfe10906-2cd2-485e-bccf-adc8f72aad08",
   "metadata": {},
   "outputs": [
    {
     "name": "stdout",
     "output_type": "stream",
     "text": [
      "Chi-Square Statistic: 7.34347776140707\n",
      "Degrees of Freedom: 3\n",
      "P-value: 0.06171954839170547\n"
     ]
    }
   ],
   "source": [
    "import pandas as pd\n",
    "from scipy.stats import chi2_contingency\n",
    "\n",
    "# Dataset already loaded as 'dataset'\n",
    "\n",
    "# Create contingency table\n",
    "contingency_table = pd.crosstab(dataset['smoker'], dataset['region'])\n",
    "\n",
    "# Perform Chi-Square Test\n",
    "chi2_stat, p_value, dof, expected = chi2_contingency(contingency_table)\n",
    "\n",
    "# Display results\n",
    "print(\"Chi-Square Statistic:\", chi2_stat)\n",
    "print(\"Degrees of Freedom:\", dof)\n",
    "print(\"P-value:\", p_value)\n"
   ]
  },
  {
   "cell_type": "markdown",
   "id": "860d9f08-5cde-499e-9fce-669cd9e7a301",
   "metadata": {},
   "source": [
    "### Chi-Square Test Result: Smoker vs Region\n",
    "\n",
    "- **Chi-Square Value:** 7.34  \n",
    "- **Degrees of Freedom:** 3  \n",
    "- **P-value:** 0.0617\n",
    "\n",
    "#### Conclusion:\n",
    "Since the p-value is **greater than 0.05**, we **do not reject the null hypothesis**.\n",
    "\n",
    "This means that there is **no strong relationship** between a person’s **smoking status** and their **region**.  \n",
    "In simple words, **smoking does not depend on the region** in this dataset.\n"
   ]
  },
  {
   "cell_type": "markdown",
   "id": "fa06bb3d-1e55-43ae-b72d-5441eafae350",
   "metadata": {},
   "source": [
    "    ### Conclusion:\n",
    "This analysis used various statistical techniques such as descriptive statistics, hypothesis testing, and chi-square tests to understand the patterns and relationships in the insurance dataset. The results showed that smoking status does not depend on region, and there were significant differences in charges between smokers and non-smokers. This provides valuable insights into insurance charges and smoking behavior.\n"
   ]
  },
  {
   "cell_type": "code",
   "execution_count": null,
   "id": "f360c814-2756-4870-92bd-780fb3f0687c",
   "metadata": {},
   "outputs": [],
   "source": []
  }
 ],
 "metadata": {
  "kernelspec": {
   "display_name": "Python 3 (ipykernel)",
   "language": "python",
   "name": "python3"
  },
  "language_info": {
   "codemirror_mode": {
    "name": "ipython",
    "version": 3
   },
   "file_extension": ".py",
   "mimetype": "text/x-python",
   "name": "python",
   "nbconvert_exporter": "python",
   "pygments_lexer": "ipython3",
   "version": "3.12.7"
  }
 },
 "nbformat": 4,
 "nbformat_minor": 5
}
